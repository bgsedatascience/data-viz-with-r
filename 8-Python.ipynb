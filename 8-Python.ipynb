{
 "cells": [
  {
   "cell_type": "markdown",
   "metadata": {},
   "source": [
    "# Invoking Python from R"
   ]
  },
  {
   "cell_type": "markdown",
   "metadata": {},
   "source": [
    "## Initialisation\n",
    "To get started, install the reticulate package and set the path to the correct version of Python using the use_python() function. \n",
    "\n",
    "Although it is not required, explictly choosing a Python instance is a good practice. Once an instance is chosen for that session it cannot be changed. \n",
    "\n",
    "If you run into issues setting the path to the Python instance, restart R and try again. The py_config() command shows the version of Python that has connected with R.\n",
    "\n",
    "source: https://cran.r-project.org/web/packages/reticulate/vignettes/calling_python.html"
   ]
  },
  {
   "cell_type": "code",
   "execution_count": 1,
   "metadata": {
    "scrolled": true
   },
   "outputs": [],
   "source": [
    "# Install and load reticulate package\n",
    "# install.packages(\"reticulate\")\n",
    "library(\"reticulate\")"
   ]
  },
  {
   "cell_type": "code",
   "execution_count": 2,
   "metadata": {},
   "outputs": [
    {
     "data": {
      "text/plain": [
       "python:         /usr/local/bin/python\n",
       "libpython:      /usr/local/opt/python@2/Frameworks/Python.framework/Versions/2.7/lib/python2.7/config/libpython2.7.dylib\n",
       "pythonhome:     /usr/local/opt/python@2/Frameworks/Python.framework/Versions/2.7:/usr/local/opt/python@2/Frameworks/Python.framework/Versions/2.7\n",
       "version:        2.7.15 (default, Oct  2 2018, 11:47:18)  [GCC 4.2.1 Compatible Apple LLVM 10.0.0 (clang-1000.11.45.2)]\n",
       "numpy:          /usr/local/lib/python2.7/site-packages/numpy\n",
       "numpy_version:  1.16.4\n",
       "\n",
       "NOTE: Python version was forced by use_python function"
      ]
     },
     "metadata": {},
     "output_type": "display_data"
    }
   ],
   "source": [
    "# Set the path to the Python executable file\n",
    "use_python(\"/usr/local/bin/python\", required = T)\n",
    "\n",
    "# Check the version of Python.\n",
    "py_config()"
   ]
  },
  {
   "cell_type": "markdown",
   "metadata": {},
   "source": [
    "## Invoking Python functions from R\n",
    "\n",
    "The `source_python()` evaluates the specified script and makes all public (non-module) objects within the main Python module available within the R environment. Any function or object in the script can be called from R. In addition, we can pass parameters from R into the Python functions.\n",
    "\n",
    "To run this code, we must:\n",
    "+ Create a separate script called “test_python_func.py” with the code below\n",
    "+ Save that script into the same directory as this script\n",
    "+ Set working directory “To Source File Location”\n",
    "+ Run the code below"
   ]
  },
  {
   "cell_type": "markdown",
   "metadata": {},
   "source": [
    "### test_python_func.py\n",
    "<code>\n",
    "def my_function(x):\n",
    "    for i in range(1, x, 1):\n",
    "        print(\"Hello World!\", \"\\t\", x)\n",
    "</code>"
   ]
  },
  {
   "cell_type": "code",
   "execution_count": 3,
   "metadata": {},
   "outputs": [
    {
     "name": "stdout",
     "output_type": "stream",
     "text": [
      "[1] 100\n"
     ]
    }
   ],
   "source": [
    "# Evaluate the chosen script\n",
    "source_python(\"test_python_func.py\")\n",
    "\n",
    "# Create parameter to pass to Python function\n",
    "x = 10\n",
    "\n",
    "# Call my_function()\n",
    "y = my_function(x)\n",
    "print(y)"
   ]
  },
  {
   "cell_type": "markdown",
   "metadata": {},
   "source": [
    "## Calling Python script from R\n",
    "\n",
    "Another feature of the `reticulate` package is the ability to run Python scripts directly from R. To run the example, repeat the steps above with \"test_python_script.py\"."
   ]
  },
  {
   "cell_type": "code",
   "execution_count": 15,
   "metadata": {},
   "outputs": [
    {
     "data": {
      "text/plain": [
       "Module(pandas)"
      ]
     },
     "metadata": {},
     "output_type": "display_data"
    }
   ],
   "source": [
    "# Import the necessary Python packages into the environment using the import() function.\n",
    "import(\"pandas\")\n",
    "py_run_file(\"test_python_script.py\")"
   ]
  },
  {
   "cell_type": "code",
   "execution_count": 16,
   "metadata": {},
   "outputs": [
    {
     "name": "stdout",
     "output_type": "stream",
     "text": [
      "[1] \"Hello from the other side\"\n"
     ]
    }
   ],
   "source": [
    "print(py$my_var)"
   ]
  },
  {
   "cell_type": "code",
   "execution_count": 17,
   "metadata": {},
   "outputs": [
    {
     "name": "stdout",
     "output_type": "stream",
     "text": [
      "$x2\n",
      "[1] 4 5 6\n",
      "\n",
      "$x3\n",
      "[1] 7 8 9\n",
      "\n",
      "$x1\n",
      "[1] 1 2 3\n",
      "\n"
     ]
    }
   ],
   "source": [
    "print(py$Dict)"
   ]
  },
  {
   "cell_type": "code",
   "execution_count": 18,
   "metadata": {},
   "outputs": [
    {
     "name": "stdout",
     "output_type": "stream",
     "text": [
      "  x1 x2 x3\n",
      "1  1  4  7\n",
      "2  2  5  8\n",
      "3  3  6  9\n"
     ]
    }
   ],
   "source": [
    "print(py$df)"
   ]
  },
  {
   "cell_type": "code",
   "execution_count": 19,
   "metadata": {},
   "outputs": [
    {
     "name": "stdout",
     "output_type": "stream",
     "text": [
      "[1] 10\n"
     ]
    }
   ],
   "source": [
    "print(py$x)"
   ]
  },
  {
   "cell_type": "code",
   "execution_count": null,
   "metadata": {},
   "outputs": [],
   "source": []
  }
 ],
 "metadata": {
  "kernelspec": {
   "display_name": "R",
   "language": "R",
   "name": "ir"
  },
  "language_info": {
   "codemirror_mode": "r",
   "file_extension": ".r",
   "mimetype": "text/x-r-source",
   "name": "R",
   "pygments_lexer": "r",
   "version": "3.4.3"
  }
 },
 "nbformat": 4,
 "nbformat_minor": 2
}
