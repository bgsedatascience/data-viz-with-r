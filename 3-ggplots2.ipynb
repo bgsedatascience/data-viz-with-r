{
 "cells": [
  {
   "cell_type": "markdown",
   "metadata": {},
   "source": [
    "# ggplots2\n",
    "\n",
    "The `ggplot2` package (created by Hadley Wickham) offers a powerful graphics language for creating elegant and complex plots. \n",
    "\n",
    "`ggplot2` allows to create graphs that represent both univariate and multivariate numerical and categorical data in a straightforward manner. Grouping can be represented by color, symbol, size, and transparency. Moreover, the creation of trellis plots (i.e., conditioning) is relatively simple. \n",
    "\n",
    "To install a suite of usefull packages including `ggplot2` type in R: install.packages(\"tidyverse\")\n",
    "\n",
    "Other sources:\n",
    "+ https://ggplot2.tidyverse.org\n",
    "+ https://github.com/tidyverse/ggplot2/wiki"
   ]
  },
  {
   "cell_type": "markdown",
   "metadata": {},
   "source": [
    "## Why ggplot2?\n",
    "\n",
    "<b>Advantages of ggplot2:</b>\n",
    "+ consistent underlying Grammar of Graphics (http://www.amazon.com/Grammar-Graphics-Statistics-Computing/dp/0387245448)\n",
    "+ plot specification at a high level of abstraction\n",
    "+ very flexible\n",
    "+ theme system for polishing plot appearance\n",
    "+ mature and complete graphics system\n",
    "+ many users, active mailing list\n",
    "\n",
    "<b>Compared to base graphics, ggplot2:</b>\n",
    "+ is more verbose for simple / canned graphics\n",
    "+ is less verbose for complex / custom graphics\n",
    "+ does not have methods (data should always be in a data.frame)\n",
    "+ uses a different system for adding plot elements"
   ]
  },
  {
   "cell_type": "markdown",
   "metadata": {},
   "source": [
    "## What Is The Grammar Of Graphics?\n",
    "\n",
    "The basic idea is to independently specify plot building blocks and combine them to create just about any kind of graphical display you want. \n",
    "\n",
    "Building blocks of a graph include:\n",
    "+ data\n",
    "+ aesthetic mapping\n",
    "+ geometric object\n",
    "+ statistical transformations\n",
    "+ scales\n",
    "+ coordinate system\n",
    "+ position adjustments\n",
    "+ faceting"
   ]
  },
  {
   "cell_type": "code",
   "execution_count": null,
   "metadata": {},
   "outputs": [],
   "source": [
    "# install.packages(\"tidyverse\")\n",
    "# install.packages(\"readr\")\n",
    "library(tidyverse)\n",
    "library(readr)"
   ]
  },
  {
   "cell_type": "markdown",
   "metadata": {},
   "source": [
    "## `qplot()`\n",
    "\n",
    "The `qplot()` function (qplot stands for *quick plot*) can be used to create the most common graph types. While it does not expose \n",
    "ggplot's full power, it can create a very wide range of useful plots. The format is:\n",
    "\n",
    "`qplot(x, y, data=, color=, shape=, size=, alpha=, geom=, method=, formula=, facets=, xlim=, ylim= xlab=, ylab=, main=, sub=)`"
   ]
  },
  {
   "cell_type": "markdown",
   "metadata": {},
   "source": [
    "<table style=\"width:80%\">\n",
    "    <tr>\n",
    "        <th style=\"text-align: left; width:30%\">Parameter</th><th style=\"text-align: left; width:70%\">Description</th>\n",
    "    </tr>\n",
    "    <tr>\n",
    "        <td style=\"text-align: left\">alpha</td><td style=\"text-align: left\">Alpha transparency for overlapping elements expressed as a fraction between 0 (complete transparency) and 1 (complete opacity).</td>\n",
    "    </tr>\n",
    "    <tr>\n",
    "        <td style=\"text-align: left\">color, shape, size, fill</td><td style=\"text-align: left\">Associates the levels of variable with symbol color, shape, or size. For line plots, color associates levels of a variable with line color. For density and box plots, fill associates fill colors with a variable. Legends are drawn automatically.</td>\n",
    "    </tr>\n",
    "    <tr>\n",
    "        <td style=\"text-align: left\">data</td><td style=\"text-align: left\">Specifies a data frame.</td>\n",
    "    </tr>\n",
    "    <tr>\n",
    "        <td style=\"text-align: left\">facets</td><td style=\"text-align: left\">Creates a trellis graph by specifying conditioning variables. Its value is expressed as rowvar ~ colvar. To create trellis graphs based on a single conditioning variable, use rowvar~. or .~colvar)</td>\n",
    "    </tr>\n",
    "    <tr>\n",
    "        <td style=\"text-align: left\">geom</td><td style=\"text-align: left\">Specifies the geometric objects that define the graph type. The geom option is expressed as a character vector with one or more entries. geom values include \"point\", \"smooth\", \"boxplot\", \"line\", \"histogram\", \"density\", \"bar\", and \"jitter\".</td>\n",
    "    </tr>\n",
    "    <tr>\n",
    "        <td style=\"text-align: left\">main, sub</td><td style=\"text-align: left\">Character vectors specifying the title and subtitle.</td>\n",
    "    </tr>\n",
    "    <tr>\n",
    "        <td style=\"text-align: left\">method, formula</td><td style=\"text-align: left\">If geom=\"smooth\", a loess fit line and confidence limits are added by default. When the number of observations is greater than 1,000, a more efficient smoothing algorithm is employed. Methods include \"lm\" for regression, \"gam\" for generalized additive models, and \"rlm\" for robust regression. The formula parameter gives the form of the fit.<br />For example, to add simple linear regression lines, you'd specify geom=\"smooth\", method=\"lm\", formula=y~x. Changing the formula to y~poly(x,2) would produce a quadratic fit. Note that the formula uses the letters x and y, not the names of the variables.<br />For method=\"gam\", be sure to load the mgcv package. For method=\"rml\", load the MASS package.</td>\n",
    "    </tr>\n",
    "    <tr>\n",
    "        <td style=\"text-align: left\">x, y</td><td style=\"text-align: left\">Specifies the variables placed on the horizontal and vertical axis. For univariate plots (for example, histograms), omit y.</td>\n",
    "    </tr>\n",
    "    <tr>\n",
    "        <td style=\"text-align: left\">xlab, ylab</td><td style=\"text-align: left\">Character vectors specifying horizontal and vertical axis labels.</td>\n",
    "    </tr>\n",
    "    <tr>\n",
    "        <td style=\"text-align: left\">xlim, ylim</td><td style=\"text-align: left\">Two-element numeric vectors giving the minimum and maximum values for the horizontal and vertical axes, respectively.</td>\n",
    "    </tr>\n",
    "</table>"
   ]
  },
  {
   "cell_type": "code",
   "execution_count": null,
   "metadata": {},
   "outputs": [],
   "source": [
    "data(mtcars)\n",
    "print(head(mtcars))"
   ]
  },
  {
   "cell_type": "code",
   "execution_count": null,
   "metadata": {},
   "outputs": [],
   "source": [
    "# Create factors with value labels.\n",
    "mtcars$gear <- factor(mtcars$gear, levels = c(3,4,5), labels = c(\"3-gears\",\"4-gears\",\"5-gears\")) \n",
    "mtcars$am <- factor(mtcars$am, levels = c(0,1), labels = c(\"Automatic\",\"Manual\")) \n",
    "mtcars$cyl <- factor(mtcars$cyl, levels = c(4,6,8), labels = c(\"4cyl\",\"6cyl\",\"8cyl\")) "
   ]
  },
  {
   "cell_type": "code",
   "execution_count": null,
   "metadata": {},
   "outputs": [],
   "source": [
    "# Kernel density plots for mpg grouped by number of gears (indicated by color).\n",
    "qplot(mpg, \n",
    "      data = mtcars, \n",
    "      geom = \"density\",\n",
    "      fill = gear, \n",
    "      alpha = .5,\n",
    "      main = \"Distribution of Gas Milage\", \n",
    "      xlab = \"Miles Per Gallon\", \n",
    "      ylab = \"Density\")"
   ]
  },
  {
   "cell_type": "code",
   "execution_count": null,
   "metadata": {},
   "outputs": [],
   "source": [
    "# Scatterplot of mpg vs. hp with smoothed line.\n",
    "# The option smooth is used to add a smoothed line with its standard error.\n",
    "qplot(x = hp, \n",
    "      y = mpg, \n",
    "      data = mtcars, \n",
    "      geom = c(\"point\", \"smooth\"),\n",
    "      xlab = \"Horsepower\",\n",
    "      ylab = \"Miles Per Gallon\")"
   ]
  },
  {
   "cell_type": "code",
   "execution_count": null,
   "metadata": {},
   "outputs": [],
   "source": [
    "# Scatterplot of mpg vs. hp for each combination of cylinders.\n",
    "# The argument color is used to tell R that we want to color the points by groups.\n",
    "qplot(x = mpg, \n",
    "      y = hp, \n",
    "      data = mtcars, \n",
    "      color = factor(cyl),\n",
    "      geom = c(\"point\", \"line\"),\n",
    "      xlab = \"Horsepower\",\n",
    "      ylab = \"Miles Per Gallon\")"
   ]
  },
  {
   "cell_type": "code",
   "execution_count": null,
   "metadata": {},
   "outputs": [],
   "source": [
    "# Scatterplot of mpg vs. hp for each combination of gears and cylinders\n",
    "# in each facet, transmittion type is represented by shape and color.\n",
    "qplot(x = hp,\n",
    "      y = mpg, \n",
    "      data = mtcars, \n",
    "      shape = am, \n",
    "      color = am, \n",
    "      facets = gear~cyl, \n",
    "      size = I(3),\n",
    "      xlab = \"Horsepower\", \n",
    "      ylab=\"Miles per Gallon\")"
   ]
  },
  {
   "cell_type": "code",
   "execution_count": null,
   "metadata": {},
   "outputs": [],
   "source": [
    "# Boxplots of mpg by number of gears (observations (points) are overlayed and jittered).\n",
    "qplot(x = gear, \n",
    "      y = mpg, \n",
    "      data = mtcars, \n",
    "      geom = c(\"boxplot\", \"jitter\"),\n",
    "      fill = gear, \n",
    "      main = \"Mileage by Gear Number\",\n",
    "      xlab = \"Gear Number\", \n",
    "      ylab = \"Miles per Gallon\")"
   ]
  },
  {
   "cell_type": "markdown",
   "metadata": {},
   "source": [
    "## `aes()`\n",
    "\n",
    "Aesthetic mappings describe how variables in the data are mapped to visual properties (aesthetics) of geoms. Aesthetic mappings can be set in ggplot2() and in individual layers.\n",
    "\n",
    "`aes()` is a quoting function. This means that its inputs are quoted to be evaluated in the context of the data. This makes it easy to work with variables from the data frame because you can name those directly.\n",
    "\n",
    "Examples include:\n",
    "+ position (i.e., on the x and y axes)\n",
    "+ color (“outside” color)\n",
    "+ fill (“inside” color)\n",
    "+ shape (of points)\n",
    "+ linetype\n",
    "+ size"
   ]
  },
  {
   "cell_type": "markdown",
   "metadata": {},
   "source": [
    "## Geometic Objects (`geom`)\n",
    "\n",
    "Geometric objects are the actual marks we put on a plot. Examples include:\n",
    "+ points (`geom_point`, for scatter plots, dot plots, etc)\n",
    "+ lines (`geom_line`, for time series, trend lines, etc)\n",
    "+ boxplot (`geom_boxplot`, for boxplots)\n",
    "\n",
    "A plot must have at least one geom; there is no upper limit. You can add a geom to a plot using the `+` operator\n",
    "\n",
    "Each type of geom accepts only a subset of all aesthetics–refer to the geom help pages to see what mappings each geom accepts. Aesthetic mappings are set with the `aes()` function."
   ]
  },
  {
   "cell_type": "code",
   "execution_count": null,
   "metadata": {},
   "outputs": [],
   "source": [
    "# You can get a list of available geometric objects using the code below:\n",
    "help.search(\"geom_\", package = \"ggplot2\")"
   ]
  },
  {
   "cell_type": "code",
   "execution_count": null,
   "metadata": {},
   "outputs": [],
   "source": [
    "# Let’s look at housing prices.\n",
    "housing <- read_csv(\"data/landdata-states.csv\")\n",
    "head(housing[1:5])"
   ]
  },
  {
   "cell_type": "code",
   "execution_count": null,
   "metadata": {},
   "outputs": [],
   "source": [
    "# Base graphics histogram example.\n",
    "hist(housing$Home.Value, breaks = 40)"
   ]
  },
  {
   "cell_type": "code",
   "execution_count": null,
   "metadata": {},
   "outputs": [],
   "source": [
    "# ggplot2 histogram example.\n",
    "library(ggplot2)\n",
    "ggplot(housing, \n",
    "       aes(x = Home.Value)) +\n",
    "geom_histogram(bins = 40)"
   ]
  },
  {
   "cell_type": "code",
   "execution_count": null,
   "metadata": {},
   "outputs": [],
   "source": [
    "# Base graphics colored scatter plot example.\n",
    "plot(Home.Value ~ Date,\n",
    "     col = factor(State),\n",
    "     data = filter(housing, State %in% c(\"MA\", \"TX\")))\n",
    "legend(\"topleft\",\n",
    "       legend = c(\"MA\", \"TX\"),\n",
    "       col = c(\"black\", \"red\"),\n",
    "       pch = 1)"
   ]
  },
  {
   "cell_type": "code",
   "execution_count": null,
   "metadata": {},
   "outputs": [],
   "source": [
    "# ggplot2 colored scatter plot example.\n",
    "ggplot(filter(housing,\n",
    "              State %in% c(\"MA\", \"TX\")),\n",
    "       aes(x = Date,\n",
    "           y = Home.Value,\n",
    "           color = State)) +\n",
    "geom_point()"
   ]
  },
  {
   "cell_type": "code",
   "execution_count": null,
   "metadata": {},
   "outputs": [],
   "source": [
    "# Points (Scatterplot) with log transformation.\n",
    "ggplot(hp2001Q1,\n",
    "       aes(y = Structure.Cost, \n",
    "           x = log(Land.Value))) +\n",
    "geom_point()"
   ]
  },
  {
   "cell_type": "markdown",
   "metadata": {},
   "source": [
    "## Prediction Line\n",
    "\n",
    "A plot constructed with `ggplot` can have more than one geom. In that case the mappings established in the `ggplot()` call are plot defaults that can be added to or overridden."
   ]
  },
  {
   "cell_type": "code",
   "execution_count": null,
   "metadata": {},
   "outputs": [],
   "source": [
    "# Our plot could improve if we add a regression line.\n",
    "head(hp2001Q1)\n",
    "hp2001Q1$pred.SC <- predict(lm(Structure.Cost ~ log(Land.Value), data = hp2001Q1))\n",
    "\n",
    "p <- ggplot(hp2001Q1,\n",
    "            aes(x = log(Land.Value),\n",
    "                y = Structure.Cost))\n",
    "\n",
    "p + \n",
    "    geom_point(aes(color = Home.Value)) + \n",
    "    geom_line(aes(y = pred.SC))"
   ]
  },
  {
   "cell_type": "code",
   "execution_count": null,
   "metadata": {},
   "outputs": [],
   "source": [
    "# Not all geometric objects are simple shapes–the smooth geom includes a line and a ribbon.\n",
    "p +\n",
    "    geom_point(aes(color = Home.Value)) +\n",
    "    geom_smooth()"
   ]
  },
  {
   "cell_type": "code",
   "execution_count": null,
   "metadata": {},
   "outputs": [],
   "source": [
    "# Other aesthetics are mapped in the same way as x and y in the previous example.\n",
    "p +\n",
    "    geom_point(aes(color = Home.Value, shape = region))"
   ]
  },
  {
   "cell_type": "code",
   "execution_count": null,
   "metadata": {},
   "outputs": [],
   "source": [
    "p +\n",
    "    geom_point(aes(color = Home.Value, shape = region)) + \n",
    "    geom_smooth(method = \"lm\",\n",
    "                formula = y ~ x + log(x), \n",
    "                se = TRUE,\n",
    "                color = \"red\")"
   ]
  },
  {
   "cell_type": "code",
   "execution_count": null,
   "metadata": {},
   "outputs": [],
   "source": [
    "# The scale_shape_identity scale can be used to pass through any legal shape value (its mapping is the \n",
    "# identity function, and thus it does not change anything).\n",
    "\n",
    "# Let's take a look at all 25 symbols.\n",
    "df <- data.frame(x = 1:5 , y = 1:25, z = 1:25)\n",
    "ggplot(df,\n",
    "       aes(x = x, \n",
    "           y = y)) +\n",
    "geom_point(aes(shape = z), \n",
    "           size = 4) + \n",
    "scale_shape_identity()"
   ]
  },
  {
   "cell_type": "markdown",
   "metadata": {},
   "source": [
    "## Scales: Controlling Aesthetic Mapping\n",
    "\n",
    "Aesthetic mapping `aes()` only says that a variable should be mapped to an aesthetic. It doesn't say *how* that should happen. For example, when mapping a variable to *shape* with `aes(shape = x)` you don't say *what* shapes should be used. Similarly, `aes(color = z)` doesn't say *what* colors should be used. Describing what colors/shapes/sizes etc. to use is done by modifying the corresponding *scale*. In `ggplot2` scales include\n",
    "\n",
    "-   position\n",
    "-   color and fill\n",
    "-   size\n",
    "-   shape\n",
    "-   line type\n",
    "\n",
    "Scales are modified with a series of functions using a `scale_<aesthetic>_<type>` naming scheme. Try typing `scale_<tab>` to see a list of scale modification functions.\n",
    "\n",
    "## Common Scale Arguments\n",
    "\n",
    "The following arguments are common to most scales in ggplot2:\n",
    "\n",
    "+ name: the first argument gives the axis or legend title\n",
    "+ limits: the minimum and maximum of the scale\n",
    "+ breaks: the points along the scale where labels should appear\n",
    "+ labels: the labels that appear at each break\n",
    "\n",
    "Specific scale functions may have additional arguments; for example, the `scale_color_continuous` function has arguments `low` and `high` for setting the colors at the low and high end of the scale."
   ]
  },
  {
   "cell_type": "code",
   "execution_count": null,
   "metadata": {},
   "outputs": [],
   "source": [
    "p <- ggplot(housing,\n",
    "            aes(x = State,\n",
    "                y = Home.Price.Index)) + \n",
    "geom_point(aes(color = Date),\n",
    "                       alpha = 0.5,\n",
    "                       size = 1.5,\n",
    "                       # width: degree of jitter in x direction. Defaults to 40% of the resolution of the data.\n",
    "                       # height: degree of jitter in y direction. Defaults to 40% of the resolution of the data\n",
    "                       position = position_jitter(width = 0.25, height = 0)) +\n",
    "scale_x_discrete(name = \"State Abbreviation\") + \n",
    "scale_color_continuous(name = \"Date\",\n",
    "                       breaks = c(1976, 1994, 2013),\n",
    "                       labels = c(\"'76\", \"'94\", \"'13\")) +\n",
    "theme(legend.position = \"top\",\n",
    "      axis.text = element_text(size = 6))\n",
    "p"
   ]
  },
  {
   "cell_type": "markdown",
   "metadata": {},
   "source": [
    "## Faceting\n",
    "\n",
    "+ Faceting is `ggplot2` parlance for **small multiples**\n",
    "+ The idea is to create separate graphs for subsets of data\n",
    "+ `ggplot2` offers two functions for creating small multiples:\n",
    "    + `facet_wrap()`: define subsets as the levels of a single grouping variable\n",
    "    + `facet_grid()`: define subsets as the crossing of two grouping variables\n",
    "+ Facilitates comparison among plots, not just of geoms within a plot"
   ]
  },
  {
   "cell_type": "code",
   "execution_count": null,
   "metadata": {},
   "outputs": [],
   "source": [
    "## What is the trend in housing prices in each state?\n",
    "p <- ggplot(housing, \n",
    "            aes(x = Date, \n",
    "                y = Home.Value)) + \n",
    "geom_line(aes(color = State))\n",
    "p"
   ]
  },
  {
   "cell_type": "code",
   "execution_count": null,
   "metadata": {},
   "outputs": [],
   "source": [
    "p <- p + geom_line() +\n",
    "facet_wrap(~State, ncol = 10)\n",
    "p"
   ]
  },
  {
   "cell_type": "markdown",
   "metadata": {},
   "source": [
    "## Themes\n",
    "\n",
    "The `ggplot2` theme system handles non-data plot elements such as:\n",
    "+ Axis labels\n",
    "+ Plot background\n",
    "+ Facet label backround\n",
    "+ Legend appearance\n",
    "\n",
    "Built-in themes include:\n",
    "+ `theme_gray()` (default)\n",
    "+ `theme_bw()`\n",
    "+ `theme_classc()`"
   ]
  },
  {
   "cell_type": "code",
   "execution_count": null,
   "metadata": {},
   "outputs": [],
   "source": [
    "p + theme_linedraw()"
   ]
  },
  {
   "cell_type": "code",
   "execution_count": null,
   "metadata": {},
   "outputs": [],
   "source": [
    "p + theme_light()"
   ]
  },
  {
   "cell_type": "code",
   "execution_count": null,
   "metadata": {},
   "outputs": [],
   "source": [
    "p + theme_minimal() +\n",
    "theme(text = element_text(color = \"turquoise\"))"
   ]
  },
  {
   "cell_type": "code",
   "execution_count": null,
   "metadata": {},
   "outputs": [],
   "source": []
  }
 ],
 "metadata": {
  "kernelspec": {
   "display_name": "R",
   "language": "R",
   "name": "ir"
  },
  "language_info": {
   "codemirror_mode": "r",
   "file_extension": ".r",
   "mimetype": "text/x-r-source",
   "name": "R",
   "pygments_lexer": "r",
   "version": "3.4.3"
  }
 },
 "nbformat": 4,
 "nbformat_minor": 2
}
