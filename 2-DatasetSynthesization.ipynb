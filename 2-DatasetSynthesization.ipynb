{
 "cells": [
  {
   "cell_type": "markdown",
   "metadata": {},
   "source": [
    "## mlbench\n",
    "\n",
    "A collection of artificial and real-world machine learning benchmark problems including, e.g., several data sets from the UCI repository.\n",
    "\n",
    "We'll use the lattice package (by Deepayan Sarkar), which improves over base R graphics by providing better defaults and the ability to easily display multivariate relationships, to visualise the data sets."
   ]
  },
  {
   "cell_type": "code",
   "execution_count": null,
   "metadata": {},
   "outputs": [],
   "source": [
    "library(\"mlbench\")\n",
    "library(\"lattice\")\n",
    "\n",
    "# Set seed.\n",
    "set.seed(321)"
   ]
  },
  {
   "cell_type": "code",
   "execution_count": null,
   "metadata": {},
   "outputs": [],
   "source": [
    "# 2-dimensional Gaussian Problem\n",
    "# Each of the cl classes consists of a 2-dimensional Gaussian. \n",
    "# The centers are equally spaced on a circle around the origin with radius r.\n",
    "p <- mlbench.2dnormals(n = 1000, cl = 3, r = sqrt(3), sd = 0.6)\n",
    "plot(p)\n",
    "df <- as.data.frame(p)\n",
    "save(df, file = \"data/gaussian2d\")"
   ]
  },
  {
   "cell_type": "code",
   "execution_count": null,
   "metadata": {},
   "outputs": [],
   "source": [
    "# Cassini: A 2-Dimensional Problem\n",
    "# The inputs of the cassini problem are uniformly distributed on a 2-dimensional space \n",
    "# within 3 structures. The 2 external structures (classes) are banana-shaped structures \n",
    "# and in between them, the middle structure (class) is a circle.\n",
    "p <- mlbench.cassini(n = 5000, relsize = c(2,2,1))\n",
    "plot(p)\n",
    "df <- as.data.frame(p)\n",
    "save(df, file = \"data/2d\")"
   ]
  },
  {
   "cell_type": "code",
   "execution_count": null,
   "metadata": {},
   "outputs": [],
   "source": [
    "# Circle in a Square Problem\n",
    "# The inputs of the circle problem are uniformly distributed on the d-dimensional cube with corners {+/-1}. \n",
    "# This is a 2-class problem: The first class is a d-dimensional ball in the middle of the cube, the \n",
    "# remainder forms the second class. The size of the ball is chosen such that both classes have \n",
    "# equal prior probability 0.5.\n",
    "p <- mlbench.circle(n = 1000, d = 2)\n",
    "plot(p)\n",
    "df <- as.data.frame(p)\n",
    "save(df, file = \"data/square\")"
   ]
  },
  {
   "cell_type": "code",
   "execution_count": null,
   "metadata": {},
   "outputs": [],
   "source": [
    "# Corners of Hypercube\n",
    "# The created data are d-dimensional spherical Gaussians with standard deviation sd and means at \n",
    "# the corners of a d-dimensional hypercube. The number of classes is 2d.\n",
    "p <- mlbench.hypercube()\n",
    "plot(p)\n",
    "cloud(x.3~x.1+x.2, groups=classes, data = as.data.frame(p))\n",
    "df <- as.data.frame(p)\n",
    "save(df, file = \"data/hypercube\")"
   ]
  },
  {
   "cell_type": "code",
   "execution_count": null,
   "metadata": {},
   "outputs": [],
   "source": [
    "# Corners of d-dimensional Simplex\n",
    "# The created data are d-dimensional spherical Gaussians with standard deviation sd and means at \n",
    "# the corners of a d-dimensional simplex. The number of classes is d+1.\n",
    "p <- mlbench.simplex(n = 800, d = 3, sides = 1, sd = 0.1, center=TRUE)\n",
    "plot(p)\n",
    "library(\"lattice\")\n",
    "cloud(x.3~x.1+x.2, groups = classes, data = as.data.frame(p))\n",
    "df <- as.data.frame(p)\n",
    "save(df, file = \"data/simplex\")"
   ]
  },
  {
   "cell_type": "code",
   "execution_count": null,
   "metadata": {},
   "outputs": [],
   "source": [
    "# Twonorm Benchmark Problem\n",
    "# The inputs of the twonorm problem are points from two Gaussian distributions with unit covariance matrix. \n",
    "# Class 1 is multivariate normal with mean (a, a, ... ,a) and class 2 with mean (-a, -a, ..., -a), a = 2/d^0.5.\n",
    "p <- mlbench.twonorm(n = 1000, d = 2)\n",
    "plot(p)\n",
    "df <- as.data.frame(p)\n",
    "save(df, file = \"data/twonorm\")"
   ]
  },
  {
   "cell_type": "code",
   "execution_count": null,
   "metadata": {},
   "outputs": [],
   "source": [
    "# Continuous XOR Benchmark Problem\n",
    "# The inputs of the XOR problem are uniformly distributed on the d-dimensional cube with corners {+/-1}. \n",
    "# Each pair of opposite corners form one class, hence the total number of classes is 2(d-1).\n",
    "p <- mlbench.xor(n = 300, d = 2)\n",
    "plot(p)\n",
    "df <- as.data.frame(p)\n",
    "save(df, file = \"data/xor\")"
   ]
  },
  {
   "cell_type": "code",
   "execution_count": null,
   "metadata": {},
   "outputs": [],
   "source": [
    "# Two Spirals Benchmark Problem\n",
    "# The inputs of the spirals problem are points on two entangled spirals. If sd>0, then Gaussian noise is added \n",
    "# to each data point. mlbench.1spiral creates a single spiral.\n",
    "p <- mlbench.spirals(n = 500, cycles = 1.5, sd = 0.03)\n",
    "plot(p)\n",
    "df <- as.data.frame(p)\n",
    "save(df, file = \"data/spirals\")"
   ]
  },
  {
   "cell_type": "code",
   "execution_count": null,
   "metadata": {},
   "outputs": [],
   "source": []
  }
 ],
 "metadata": {
  "kernelspec": {
   "display_name": "R",
   "language": "R",
   "name": "ir"
  },
  "language_info": {
   "codemirror_mode": "r",
   "file_extension": ".r",
   "mimetype": "text/x-r-source",
   "name": "R",
   "pygments_lexer": "r",
   "version": "3.4.3"
  }
 },
 "nbformat": 4,
 "nbformat_minor": 2
}
