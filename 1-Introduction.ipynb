{
 "cells": [
  {
   "cell_type": "markdown",
   "metadata": {},
   "source": [
    "## Python brief history\n",
    "\n",
    "R is a programming language and free software environment for statistical computing and graphics supported by the R Foundation for Statistical Computing. The R language is widely used among statisticians and data scientists for developing statistical software and data analysis.\n",
    "\n",
    "R was created by (R)oss Ihaka and (R)obert Gentleman at the University of Auckland, New Zealand, and is currently developed by the R Development Core Team.\n",
    "\n",
    "R is an implementation of the S programming language (Bell Labs) combined with lexical scoping semantics, inspired by (S)cheme. \n",
    "R is named partly after the first names of the first two R authors and partly as a play on the name of S.\n",
    "\n",
    "+ Current version\n",
    "    + 3.6.1 (2019-07-05)\n",
    "+ Project website\n",
    "    + https://www.r-project.org"
   ]
  },
  {
   "cell_type": "markdown",
   "metadata": {
    "slideshow": {
     "slide_type": "-"
    }
   },
   "source": [
    "# Introduction to programming with R"
   ]
  },
  {
   "cell_type": "markdown",
   "metadata": {},
   "source": [
    "## Benefits of using R\n",
    "\n",
    "+ R has one of the richest ecosystems to perform data analysis\n",
    "+ More than 12,000 packages available in CRAN (Comprehensive R Archive Network)\n",
    "+ Self-validation process so that packages can follow best practices for development (CII Best Practices Badge Program)\n",
    "+ Designed for statistical analysis, machine learning and data mining"
   ]
  },
  {
   "cell_type": "markdown",
   "metadata": {},
   "source": [
    "<table>\n",
    "    <tr>\n",
    "        <td><img src=\"images/1.png\" /></td>\n",
    "    </tr>\n",
    "</table>"
   ]
  },
  {
   "cell_type": "markdown",
   "metadata": {},
   "source": [
    "## Pros and Cons\n",
    "\n",
    "<table>\n",
    "    <tr>\n",
    "        <td><img src=\"images/2.png\" /></td>\n",
    "    </tr>\n",
    "</table>"
   ]
  },
  {
   "cell_type": "markdown",
   "metadata": {},
   "source": [
    "## Installing R (Windows, Linux, MacOS)\n",
    "+ Download and install the latest R distribution from CRAN: https://cran.r-project.org\n",
    "+ Download and install the latest version of RStudio: https://www.rstudio.com\n",
    "+ While in RStudio, set the working directory\n",
    "    + Find out existing working directory: getwd()\n",
    "    + Set a new working directory: setwd(\"/.../...\")"
   ]
  },
  {
   "cell_type": "code",
   "execution_count": null,
   "metadata": {
    "scrolled": true
   },
   "outputs": [],
   "source": [
    "# At the R prompt we type expressions. \n",
    "# The <- symbol is the assignment operator.\n",
    "\n",
    "x <- 1 # or x = 1\n",
    "print(x)"
   ]
  },
  {
   "cell_type": "markdown",
   "metadata": {},
   "source": [
    "## Data Types"
   ]
  },
  {
   "cell_type": "markdown",
   "metadata": {},
   "source": [
    "R has five basic classes of objects:\n",
    "+ character\n",
    "+ numeric (real numbers)\n",
    "+ integer\n",
    "+ complex\n",
    "+ logical (True/False)"
   ]
  },
  {
   "cell_type": "markdown",
   "metadata": {},
   "source": [
    "### Strings and characters"
   ]
  },
  {
   "cell_type": "code",
   "execution_count": null,
   "metadata": {},
   "outputs": [],
   "source": [
    "# character - text is represented as a sequence of characters (letters, numbers, and symbols)\n",
    "s1 <- \"do more with less\"\n",
    "print(s1)"
   ]
  },
  {
   "cell_type": "code",
   "execution_count": null,
   "metadata": {},
   "outputs": [],
   "source": [
    "# Single quotes within double quotes.\n",
    "s2 <- \"The 'R' project for statistical computing\"\n",
    "print(s2)"
   ]
  },
  {
   "cell_type": "code",
   "execution_count": null,
   "metadata": {},
   "outputs": [],
   "source": [
    "# Double quotes within single quotes.\n",
    "s3 <- 'The \"R\" project for statistical computing'\n",
    "print(s3)"
   ]
  },
  {
   "cell_type": "code",
   "execution_count": null,
   "metadata": {},
   "outputs": [],
   "source": [
    "# We want to avoid the following cases.\n",
    "s4 <- \"This \"is\" totally unacceptable\"\n",
    "s5 <- 'This 'is' absolutely wrong'"
   ]
  },
  {
   "cell_type": "markdown",
   "metadata": {},
   "source": [
    "### Numbers"
   ]
  },
  {
   "cell_type": "code",
   "execution_count": null,
   "metadata": {},
   "outputs": [],
   "source": [
    "# Numbers in R a generally treated as numeric objects.\n",
    "n1 <- 1\n",
    "print(n1)\n",
    "\n",
    "# There is also a special number Inf which represents infinity. \n",
    "# This way Inf can be used in ordinary calculations, e.g. 1 / Inf.\n",
    "n2 <- 1 / Inf\n",
    "print(n2)"
   ]
  },
  {
   "cell_type": "markdown",
   "metadata": {},
   "source": [
    "### Complex numbers"
   ]
  },
  {
   "cell_type": "code",
   "execution_count": null,
   "metadata": {},
   "outputs": [],
   "source": [
    "# Complex numbers.\n",
    "c <- 1+0i\n",
    "print(c)"
   ]
  },
  {
   "cell_type": "markdown",
   "metadata": {},
   "source": [
    "### Logical"
   ]
  },
  {
   "cell_type": "code",
   "execution_count": null,
   "metadata": {},
   "outputs": [],
   "source": [
    "# Logical.\n",
    "l <- TRUE\n",
    "print(l)"
   ]
  },
  {
   "cell_type": "markdown",
   "metadata": {},
   "source": [
    "### Vectors"
   ]
  },
  {
   "cell_type": "code",
   "execution_count": null,
   "metadata": {},
   "outputs": [],
   "source": [
    "# The most basic type of R object is a vector. \n",
    "# A vector can only contain objects of the same class.\n",
    "# A vector can be created using the c() function to concatenate things together.\n",
    "\n",
    "x <- c(0.5, 0.6) # numeric\n",
    "print(x)"
   ]
  },
  {
   "cell_type": "code",
   "execution_count": null,
   "metadata": {},
   "outputs": [],
   "source": [
    "x <- c(TRUE, FALSE) # logical\n",
    "print(x)"
   ]
  },
  {
   "cell_type": "code",
   "execution_count": null,
   "metadata": {},
   "outputs": [],
   "source": [
    "x <- c(T, F) # logical\n",
    "print(x)"
   ]
  },
  {
   "cell_type": "code",
   "execution_count": null,
   "metadata": {},
   "outputs": [],
   "source": [
    "x <- c(\"a\", \"b\", \"c\") # character \n",
    "print(x)"
   ]
  },
  {
   "cell_type": "code",
   "execution_count": null,
   "metadata": {},
   "outputs": [],
   "source": [
    "x <- 1:10 # integer \n",
    "print(x)"
   ]
  },
  {
   "cell_type": "code",
   "execution_count": null,
   "metadata": {},
   "outputs": [],
   "source": [
    "x <- c(1+0i, 2+4i) # complex\n",
    "print(x)"
   ]
  },
  {
   "cell_type": "code",
   "execution_count": null,
   "metadata": {},
   "outputs": [],
   "source": [
    "# We can also use the vector() function to initialize vectors.\n",
    "x <- vector(\"numeric\", length = 10)\n",
    "print(x)"
   ]
  },
  {
   "cell_type": "code",
   "execution_count": null,
   "metadata": {},
   "outputs": [],
   "source": [
    "# We can sort the elements of a vector by using the sort() function in the following way.\n",
    "v <- c(4,78,-45,6,89,678)\n",
    "sort.v <- sort(v)\n",
    "print(sort.v)"
   ]
  },
  {
   "cell_type": "code",
   "execution_count": null,
   "metadata": {},
   "outputs": [],
   "source": [
    "# Or sort the elements in the reverse order.\n",
    "revsort.v <- sort(v, decreasing = TRUE)\n",
    "print(revsort.v) "
   ]
  },
  {
   "cell_type": "markdown",
   "metadata": {},
   "source": [
    "Missing values are denoted by NA or NaN for q undefined mathematical operations.\n",
    "+ is.na() is used to test objects if they are NA\n",
    "+ is.nan() is used to test for NaN\n",
    "+ NA values have a class also, so there are integer NA, character NA, etc. \n",
    "+ A NaN value is also NA but the converse is not true"
   ]
  },
  {
   "cell_type": "code",
   "execution_count": null,
   "metadata": {},
   "outputs": [],
   "source": [
    "# Create a vector with NA and NaN values.\n",
    " x <- c(1, 2, NaN, NA, 4)\n",
    "print(x)\n",
    "\n",
    "# Return a logical vector indicating which elements are NA\n",
    "is.na(x)\n",
    "\n",
    "# Return a logical vector indicating which elements are NaN\n",
    "is.nan(x)"
   ]
  },
  {
   "cell_type": "code",
   "execution_count": null,
   "metadata": {},
   "outputs": [],
   "source": [
    "# Factors are used to represent categorical data and can be unordered or ordered. \n",
    "# One can think of a factor as an integer vector where each integer has a label. \n",
    "# Factors are important in statistical modeling and functions like lm() and glm().\n",
    "\n",
    "x <- factor(c(\"yes\", \"yes\", \"no\", \"yes\", \"no\"))\n",
    "print(x)\n",
    "table(x)"
   ]
  },
  {
   "cell_type": "markdown",
   "metadata": {},
   "source": [
    "### Lists"
   ]
  },
  {
   "cell_type": "code",
   "execution_count": null,
   "metadata": {
    "scrolled": true
   },
   "outputs": [],
   "source": [
    "# Lists are a special type of vector that can contain elements of different classes. \n",
    "# Lists, in combination with the various apply functions  make for a powerful combination.\n",
    "# Lists can be explicitly created using the list() function, which takes an arbitrary number of arguments.\n",
    "\n",
    "x <- list(1, \"a\", TRUE, 1 + 4i)\n",
    "print(x[3])\n",
    "print(x)"
   ]
  },
  {
   "cell_type": "markdown",
   "metadata": {},
   "source": [
    "### Matrices"
   ]
  },
  {
   "cell_type": "code",
   "execution_count": null,
   "metadata": {},
   "outputs": [],
   "source": [
    "# Matrices are vectors with a dimension attribute. \n",
    "# The dimension attribute is itself an integer vector of length 2 (number of rows, number of columns).\n",
    "m <- matrix(1:6, nrow = 2, ncol = 3)\n",
    "print(m)"
   ]
  },
  {
   "cell_type": "code",
   "execution_count": null,
   "metadata": {},
   "outputs": [],
   "source": [
    "# Matrices are constructed column-wise, so entries can be thought of starting in \n",
    "# the “upper left” corner and running down the columns.\n",
    "dim(m)"
   ]
  },
  {
   "cell_type": "code",
   "execution_count": null,
   "metadata": {},
   "outputs": [],
   "source": [
    "# Matrices can also be created directly from vectors by adding a dimension attribute.\n",
    "m <- 1:10\n",
    "dim(m) <- c(2, 5)\n",
    "print(m)"
   ]
  },
  {
   "cell_type": "code",
   "execution_count": null,
   "metadata": {},
   "outputs": [],
   "source": [
    "# Matrices can be created by column-binding or row-binding with the cbind() and rbind() functions.\n",
    "x <- 1:3\n",
    "y <- 10:12\n",
    "cbind(x, y)\n",
    "rbind(x, y)"
   ]
  },
  {
   "cell_type": "markdown",
   "metadata": {},
   "source": [
    "### Data Frames\n",
    "\n",
    "Data frames are usually created by reading in a dataset using the read.table() or read.csv(). However, data frames can also be created explicitly with the data.frame() function or they can be coerced from other types of objects like lists."
   ]
  },
  {
   "cell_type": "code",
   "execution_count": null,
   "metadata": {},
   "outputs": [],
   "source": [
    "# Data frames are used to store tabular data in R.\n",
    "# The basic structure of a data frame is that there is one observation per row and each column represents \n",
    "# a variable, a measure, feature, or characteristic of that observation. \n",
    "# Unlike matrices, data frames can store different classes of objects in each column. \n",
    "x <- data.frame(foo = 1:4, bar = c(T, T, F, F))\n",
    "nrow(x)\n",
    "ncol(x)\n",
    "print(x)"
   ]
  },
  {
   "cell_type": "code",
   "execution_count": null,
   "metadata": {},
   "outputs": [],
   "source": [
    "# R objects can have names. \n",
    "# Here is an example of assigning names to an integer vector.\n",
    "\n",
    "x <- 1:3\n",
    "names(x)\n",
    "names(x) <- c(\"New York\", \"Seattle\", \"Los Angeles\")\n",
    "print(x)"
   ]
  },
  {
   "cell_type": "code",
   "execution_count": null,
   "metadata": {},
   "outputs": [],
   "source": [
    "# Matrices can have both column and row names.\n",
    "m <- matrix(1:4, nrow = 2, ncol = 2)\n",
    "dimnames(m) <- list(c(\"a\", \"b\"), c(\"c\", \"d\"))\n",
    "print(m)"
   ]
  },
  {
   "cell_type": "code",
   "execution_count": null,
   "metadata": {},
   "outputs": [],
   "source": [
    "# Column names and row names can be set separately using the colnames() and rownames() functions.\n",
    "colnames(m) <- c(\"h\", \"f\")\n",
    "rownames(m) <- c(\"x\", \"z\")\n",
    "print(m)"
   ]
  },
  {
   "cell_type": "markdown",
   "metadata": {},
   "source": [
    "<table style=\"width:60%\">\n",
    "    <tr>\n",
    "        <td><img src=\"images/3.png\" /></td>\n",
    "    </tr>\n",
    "</table>"
   ]
  },
  {
   "cell_type": "markdown",
   "metadata": {},
   "source": [
    "## I/O\n",
    "\n",
    "There are several functions for reading data into R:\n",
    "+ `read.table`, `read.csv`: for reading tabular data\n",
    "+ `readLines`: for reading lines of a text file\n",
    "+ `source`: for reading in R code files (inverse of dump)\n",
    "+ `dget`: for reading in R code files (inverse of dput)\n",
    "+ `load`: for reading in saved workspaces\n",
    "+ `unserialize`: for reading single R objects in binary form\n",
    "\n",
    "There are analogous functions for writing data to files:\n",
    "+ `write.table`: for writing tabular data to text files (i.e. CSV) or connections\n",
    "+ `writeLines`: for writing character data line-by-line to a file or connection\n",
    "+ `dump`: for dumping a textual representation of multiple R objects\n",
    "+ `dput`: for outputting a textual representation of an R object\n",
    "+ `save`: for saving an arbitrary number of R objects in binary format (possibly compressed) to a file\n",
    "+ `serialize`: for converting an R object into a binary format for outputting to a connection (or file)"
   ]
  },
  {
   "cell_type": "markdown",
   "metadata": {},
   "source": [
    "The `read.table()` function is one of the most commonly used functions for reading data and has the following arguments:\n",
    "+ <b>file</b>: the name of a file or a connection\n",
    "+ <b>header</b>: logical indicating if the file has a header line\n",
    "+ <b>sep</b>: a string indicating how the columns are separated\n",
    "+ <b>colClasses</b>: a character vector indicating the class of each column in the dataset\n",
    "+ <b>nrows</b>: the number of rows in the dataset; by default read.table() reads an entire file\n",
    "+ <b>comment.char</b>: a character string indicating the comment character; this defalts to \"#\"\n",
    "+ <b>skip</b>: the number of lines to skip from the beginning\n",
    "+ <b>stringsAsFactors</b>: should character variables be coded as factors? This defaults to TRUE"
   ]
  },
  {
   "cell_type": "code",
   "execution_count": null,
   "metadata": {},
   "outputs": [],
   "source": [
    "data <- read.table(\"data/titanic.csv\", header = TRUE, nrows = 10, sep = \",\")\n",
    "head(data)"
   ]
  },
  {
   "cell_type": "markdown",
   "metadata": {},
   "source": [
    "## Subsetting R Objects\n",
    "\n",
    "There are three operators that can be used to extract subsets of R objects.\n",
    "+ The `[` operator always returns an object of the same class as the original; it can be used to select multiple elements of an object\n",
    "+ The `[[` operator is used to extract elements of a list or a data frame; it can only be used to extract a single element and the class of the returned object will not necessarily be a list or data frame\n",
    "+ The `$` operator is used to extract elements of a list or data frame by literal name; its semantics are similar to that of `[[`\n"
   ]
  },
  {
   "cell_type": "code",
   "execution_count": null,
   "metadata": {},
   "outputs": [],
   "source": [
    "# Vectors are basic objects in R and they can be subsetted using the [ operator.\n",
    "x <- c(\"a\", \"b\", \"c\", \"d\", \"e\", \"f\")\n",
    "\n",
    "# Extract the first element.\n",
    "print(x[1])\n",
    "\n",
    "# Extract the second element.\n",
    "print(x[2])\n",
    "\n",
    "# Here we extract the first four elements of the vector.\n",
    "print(x[1:4])\n",
    "\n",
    "# The sequence does not have to be in order; we can specify any arbitrary integer vector.\n",
    "print(x[c(1, 3, 4)])"
   ]
  },
  {
   "cell_type": "code",
   "execution_count": null,
   "metadata": {},
   "outputs": [],
   "source": [
    "# Matrices can be subsetted in the usual way with (i,j) type indices. \n",
    "# Here, we create simple 2x3 matrix with the matrix function.\n",
    "\n",
    "x <- matrix(1:6, 2, 3)\n",
    "print(x)\n",
    "cat(\"\\n\")\n",
    "\n",
    "# We can access the (1,2) or the (2,1) element of this matrix using the appropriate indices.\n",
    "print(x[1, 2])\n",
    "print(x[2, 1])"
   ]
  },
  {
   "cell_type": "code",
   "execution_count": null,
   "metadata": {},
   "outputs": [],
   "source": [
    "# Indices can also be missing. This behavior is used to access entire rows or columns of a matrix.\n",
    "# Extract the first row.\n",
    "print(x[1,])"
   ]
  },
  {
   "cell_type": "code",
   "execution_count": null,
   "metadata": {},
   "outputs": [],
   "source": [
    "# Extract the second column.\n",
    "print(x[,2])"
   ]
  },
  {
   "cell_type": "code",
   "execution_count": null,
   "metadata": {},
   "outputs": [],
   "source": [
    "x <- list(foo = 1:4, bar = 0.6)\n",
    "print(x)\n",
    "\n",
    "# The [[ operator can be used to extract single elements from a list. \n",
    "# Here we extract the first element of the list.\n",
    "print(x[[1]])\n",
    "print(x[[\"bar\"]])\n",
    "cat(\"\\n\")\n",
    "\n",
    "# We can also use the $ operator to extract elements by name.\n",
    "print(x$bar)"
   ]
  },
  {
   "cell_type": "code",
   "execution_count": null,
   "metadata": {},
   "outputs": [],
   "source": [
    "x <- list(a = list(10, 12, 14), b = c(3.14, 2.81))\n",
    "print(x)"
   ]
  },
  {
   "cell_type": "code",
   "execution_count": null,
   "metadata": {},
   "outputs": [],
   "source": [
    "# Get the 3rd element of the 1st element.\n",
    "x[[1]][[3]]"
   ]
  },
  {
   "cell_type": "code",
   "execution_count": null,
   "metadata": {},
   "outputs": [],
   "source": [
    "# Get the 2nd element of the 2nd element.\n",
    "x[[2]][[2]]"
   ]
  },
  {
   "cell_type": "markdown",
   "metadata": {},
   "source": [
    "## Vectorized Operations\n",
    "\n",
    "Many operations in R are vectorized, meaning that operations occur in parallel in certain R objects. This allows us to write code that is efficient, concise, and easier to read than in non-vectorized languages."
   ]
  },
  {
   "cell_type": "code",
   "execution_count": null,
   "metadata": {},
   "outputs": [],
   "source": [
    "# The simplest example is when adding two vectors together.\n",
    "x <- 1:4\n",
    "print(x)\n",
    "cat(\"\\n\")\n",
    "\n",
    "y <- 6:9\n",
    "print(y)\n",
    "cat(\"\\n\")\n",
    "\n",
    "z <- x + y\n",
    "print(z)"
   ]
  },
  {
   "cell_type": "code",
   "execution_count": null,
   "metadata": {},
   "outputs": [],
   "source": [
    "# We can also do other operations in a vectorized manner, such as \n",
    "# logical comparisons, subtraction, multiplication and division.\n",
    "x > 2\n",
    "x >= 2\n",
    "x < 3\n",
    "y == 8\n",
    "x - y\n",
    "x * y\n",
    "x / y"
   ]
  },
  {
   "cell_type": "code",
   "execution_count": null,
   "metadata": {},
   "outputs": [],
   "source": [
    "# Matrix operations are also vectorized. This way, we can do element-by-element \n",
    "# operations on matrices without having to loop over every element.\n",
    "x <- matrix(1:4, 2, 2)\n",
    "print(x)\n",
    "y <- matrix(rep(10, 4), 2, 2)\n",
    "print(y)"
   ]
  },
  {
   "cell_type": "code",
   "execution_count": null,
   "metadata": {},
   "outputs": [],
   "source": [
    "# Element-wise multiplication.\n",
    "x * y"
   ]
  },
  {
   "cell_type": "code",
   "execution_count": null,
   "metadata": {},
   "outputs": [],
   "source": [
    "# Element-wise division.\n",
    "x / y"
   ]
  },
  {
   "cell_type": "code",
   "execution_count": null,
   "metadata": {},
   "outputs": [],
   "source": [
    "# True matrix multiplication.\n",
    "x %*% y"
   ]
  },
  {
   "cell_type": "markdown",
   "metadata": {},
   "source": [
    "## Control Structures\n",
    "\n",
    "Control structures in R allow us to control the flow of execution of a series of R expressions. Control structures allow us to put logic into our R code, rather than just always executing the same R code every time. Moreover, control structures allow us to respond to inputs or to features of the data and execute different R expressions accordingly.\n",
    "\n",
    "Commonly used control structures are:\n",
    "+ `if-else`: testing a condition and acting on it\n",
    "+ `for`: execute a loop a fixed number of times\n",
    "+ `while`: execute a loop while a condition is true\n",
    "+ `repeat`: execute an infinite loop (must break out of it to stop) • break: break the execution of a loop\n",
    "+ `next`: skip an interation of a loop\n"
   ]
  },
  {
   "cell_type": "markdown",
   "metadata": {},
   "source": [
    "## `if-else`\n",
    "\n",
    "<pre>\n",
    "if(<condition1>) {\n",
    "    \"do something\"\n",
    "} else if(<condition2>) {\n",
    "    \"do something different\"\n",
    "} else {\n",
    "    \"do something different\"\n",
    "}\n",
    "</pre>"
   ]
  },
  {
   "cell_type": "code",
   "execution_count": null,
   "metadata": {},
   "outputs": [],
   "source": [
    "# Generate a uniform random number.\n",
    "# runif(n, a, b) generates n uniform random numbers between a and b.\n",
    "x <- runif(1, 0, 10) \n",
    "print(x)\n",
    "if(x > 3) {\n",
    "    y <- 10 \n",
    "} else {\n",
    "    y <- 0 \n",
    "}\n",
    "print(y)"
   ]
  },
  {
   "cell_type": "markdown",
   "metadata": {},
   "source": [
    "## `for` Loop\n",
    "\n",
    "In R, for loops take an interator variable and assign it successive values from a sequence or vector. \n",
    "\n",
    "For loops are most commonly used for iterating over the elements of an object (list, vector, etc.)"
   ]
  },
  {
   "cell_type": "code",
   "execution_count": null,
   "metadata": {},
   "outputs": [],
   "source": [
    "for(i in 1:5) {\n",
    "    print(i) \n",
    "}\n",
    "\n",
    "cat(\"\\n\")\n",
    "\n",
    "x <- c(\"a\", \"b\", \"c\", \"d\")\n",
    "for(letter in x) {\n",
    "    print(letter)\n",
    "}"
   ]
  },
  {
   "cell_type": "markdown",
   "metadata": {},
   "source": [
    "## `while` Loop\n",
    "\n",
    "The `while` loops begin by testing a condition. If it is true, then they execute the loop body. \n",
    "\n",
    "Once the loop body is executed, the condition is tested again, and so forth, until the condition is false, after which the loop exits."
   ]
  },
  {
   "cell_type": "code",
   "execution_count": null,
   "metadata": {},
   "outputs": [],
   "source": [
    "count <- 0\n",
    "while(count < 10) {\n",
    "    print(count)\n",
    "    count <- count + 1\n",
    "}"
   ]
  },
  {
   "cell_type": "markdown",
   "metadata": {},
   "source": [
    "## `repeat` Loop\n",
    "\n",
    "The `repeat` initiates an infinite loop right from the start. The only way to exit a `repeat` loop is to call break.\n",
    "\n",
    "One possible paradigm might be in an iterative algorith where we may be searching for a solution and we don’t want to stop until we are close enough to the solution. In this kind of situation, we often don’t know in advance how many iterations it’s going to take to get close enough to the solution.\n"
   ]
  },
  {
   "cell_type": "code",
   "execution_count": null,
   "metadata": {},
   "outputs": [],
   "source": [
    "x <- runif(1, 0, 10)\n",
    "tol <- 3\n",
    "\n",
    "repeat {\n",
    "    print(x)\n",
    "    if(abs(x) < tol) {\n",
    "        break\n",
    "    } else {\n",
    "        x <- runif(1, 0, 10)\n",
    "    } \n",
    "}"
   ]
  },
  {
   "cell_type": "markdown",
   "metadata": {},
   "source": [
    "## `next`, `break`\n",
    "\n",
    "+ `next` is used to skip an iteration of a loop.\n",
    "+ `break` is used to exit a loop immediately, regardless of what iteration the loop may be on."
   ]
  },
  {
   "cell_type": "code",
   "execution_count": null,
   "metadata": {},
   "outputs": [],
   "source": [
    "for(i in 1:30) { \n",
    "    if(i <= 20) {\n",
    "        next # Skip the first 20 iterations.\n",
    "    }\n",
    "    print(i)\n",
    "}\n",
    "\n",
    "cat(\"\\n\")\n",
    "\n",
    "for(i in 1:30) { \n",
    "    print(i)\n",
    "    if(i > 20) {\n",
    "        break\n",
    "    }\n",
    "}"
   ]
  },
  {
   "cell_type": "markdown",
   "metadata": {},
   "source": [
    "## Functions in R\n",
    "\n",
    "Functions are often used to encapsulate a sequence of expressions that need to be executed numerous times, perhaps under slightly different conditions. Functions are also often written when code must be shared with others.\n",
    "\n",
    "The writing of a function allows a developer to create an interface to the code, that is explicitly specified with a set of parameters. This interface provides an abstraction of the code to potential users.\n",
    "\n",
    "Functions are defined using the function() directive and are stored as R objects just like anything else. In particular, they are R objects of class `function`."
   ]
  },
  {
   "cell_type": "code",
   "execution_count": null,
   "metadata": {
    "scrolled": true
   },
   "outputs": [],
   "source": [
    "# When specifying the function arguments by name it does not matter in what order we specify them.\n",
    "f <- function(num = 5) {\n",
    "    for(i in seq_len(num)) {\n",
    "        cat(i, \"apple(s)\\n\", sep = \" \")\n",
    "    }\n",
    "}\n",
    "\n",
    "f(num = 3)\n",
    "cat(\"\\n\")\n",
    "f()"
   ]
  },
  {
   "cell_type": "markdown",
   "metadata": {},
   "source": [
    "## Loop Functions Looping\n",
    "\n",
    "Writing for and while loops is useful when programming but not particularly easy when working interactively on the command line.\n",
    "\n",
    "+ `lapply()`: Loop over a list and evaluate a function on each element\n",
    "+ `sapply()`: Same as lapply but try to simplify the result\n",
    "+ `apply()`: Apply a function over the margins of an array\n",
    "+ `tapply()`: Apply a function over subsets of a vector"
   ]
  },
  {
   "cell_type": "markdown",
   "metadata": {},
   "source": [
    "The `lapply()` function does the following simple series of operations:\n",
    "+ it loops over a list, iterating over each element in that list\n",
    "+ it applies a function to each element of the list (a function that we specify) and returns a list (the l is for “list”)\n",
    "\n",
    "lapply(X, FUN)\n",
    "+ <b>X</b>: A vector or an object\n",
    "+ <b>FUN</b>: Function applied to each element of x\n",
    "\n",
    "(The `rnorm()` generates a random dataset following a normal distribution with the given mean and variance in the given space)"
   ]
  },
  {
   "cell_type": "code",
   "execution_count": null,
   "metadata": {},
   "outputs": [],
   "source": [
    "x <- list(a = 1:5)\n",
    "print(x)\n",
    "print(lapply(x, mean))"
   ]
  },
  {
   "cell_type": "markdown",
   "metadata": {},
   "source": [
    "The `sapply()` function behaves similarly to `lapply()`; the main difference is in the return value. \n",
    "\n",
    "`sapply()` will try to simplify the result of `lapply()` if possible. Essentially, `sapply()` calls `lapply()` on its input and then applies the following algorithm:\n",
    "+ If the result is a list where every element is length 1, then a vector is returned\n",
    "+ If the result is a list where every element is a vector of the same length (> 1), a matrix is returned\n",
    "+ If it can’t figure things out, a list is returned\n",
    "\n",
    "sapply(X, FUN)\n",
    "+ <b>X</b>: A vector or an object\n",
    "+ <b>FUN</b>: Function applied to each element of x\n"
   ]
  },
  {
   "cell_type": "code",
   "execution_count": null,
   "metadata": {
    "scrolled": true
   },
   "outputs": [],
   "source": [
    "x <- list(a = 1:4, b = rnorm(10), c = rnorm(20, 1), d = rnorm(100, 5))\n",
    "print(x)"
   ]
  },
  {
   "cell_type": "code",
   "execution_count": null,
   "metadata": {},
   "outputs": [],
   "source": [
    "# lapply() returns a list (as usual), but that each element of the list has length 1.\n",
    "print(lapply(x, mean))"
   ]
  },
  {
   "cell_type": "code",
   "execution_count": null,
   "metadata": {},
   "outputs": [],
   "source": [
    "# Here’s the result of calling sapply() on the same list.\n",
    "print(sapply(x, mean))"
   ]
  },
  {
   "cell_type": "markdown",
   "metadata": {},
   "source": [
    "The function `tapply()` computes a measure (mean, median, min, max, etc..) or a function for each factor variable in a vector.\n",
    "\n",
    "tapply(X, INDEX, FUN = NULL)\n",
    "+ <b>X</b>: An object, usually a vector\n",
    "+ <b>INDEX</b>: A list containing factor\n",
    "+ <b>FUN</b>: Function applied to each element of x\n",
    "\n",
    "The `gl()` function generates factors by specifying the pattern of their levels:\n",
    "+ gl(n, k, length = n*k, labels = 1:n, ordered = FALSE)"
   ]
  },
  {
   "cell_type": "code",
   "execution_count": null,
   "metadata": {},
   "outputs": [],
   "source": [
    "# Simulate some data.\n",
    "x <- c(rnorm(3), runif(3), rnorm(3))\n",
    "print(x)\n",
    "\n",
    "# Define some groups with a factor variable.\n",
    "# The gl() function generates factors by specifying the pattern of their levels.\n",
    "# n is an integer giving the number of levels.\n",
    "# k is an integer giving the number of replications.\n",
    "f <- gl(3, 3)\n",
    "print(f)\n",
    "\n",
    "print(tapply(x, f, mean))"
   ]
  },
  {
   "cell_type": "markdown",
   "metadata": {},
   "source": [
    "The `apply()` function is used to a evaluate a function over the margins of an array. \n",
    "\n",
    "It is most often used to apply a function to the rows or columns of a matrix (which is just a 2-dimensional array). However, it can be used with general arrays, for example, to take the average of an array of matrices. \n",
    "\n",
    "Using `apply()` is not really faster than writing a loop, but it works in one line and is highly compact.\n",
    "\n",
    "apply(X, MARGIN, FUN)\n",
    "+ <b>x</b>: an array or matrix\n",
    "+ <b>MARGIN</b>:  take a value or range between 1 and 2 to define where to apply the function:\n",
    "+ <b>MARGIN = 1</b>: the manipulation is performed on rows\n",
    "+ <b>MARGIN = 2</b>: the manipulation is performed on columns\n",
    "+ <b>MARGIN = c(1,2)</b>: the manipulation is performed on rows and columns\n",
    "+ <b>FUN</b>: tells which function to apply. Built functions like mean, median, sum, min, max and even user-defined functions can be applied>"
   ]
  },
  {
   "cell_type": "code",
   "execution_count": null,
   "metadata": {},
   "outputs": [],
   "source": [
    "x <- matrix(rnorm(50), 10, 5)\n",
    "print(x)"
   ]
  },
  {
   "cell_type": "code",
   "execution_count": null,
   "metadata": {},
   "outputs": [],
   "source": [
    "# Take the sum of each row.\n",
    "rowSums = apply(x, 1, sum)\n",
    "print(rowSums)"
   ]
  },
  {
   "cell_type": "code",
   "execution_count": null,
   "metadata": {},
   "outputs": [],
   "source": [
    "# Take the mean of each row.\n",
    "rowMeans = apply(x, 1, mean)\n",
    "print(rowMeans)"
   ]
  },
  {
   "cell_type": "code",
   "execution_count": null,
   "metadata": {},
   "outputs": [],
   "source": [
    "# Take the sum of each column.\n",
    "colSums = apply(x, 2, sum)\n",
    "print(colSums)"
   ]
  },
  {
   "cell_type": "code",
   "execution_count": null,
   "metadata": {},
   "outputs": [],
   "source": [
    "# Take the mean of each column.\n",
    "colMeans = apply(x, 2, mean)\n",
    "print(colMeans)\n",
    "cat(\"\\n\")"
   ]
  },
  {
   "cell_type": "markdown",
   "metadata": {},
   "source": [
    "## The dplyr Package\n",
    "\n",
    "The `dplyr` package was developed by Hadley Wickham of RStudio and is an optimized and distilled version of his `plyr` package. \n",
    "\n",
    "The `dplyr` package simplifies existing functionality in R. One important contribution of the `dplyr` package is that it provides a grammar (in particular, verbs) for data manipulation and for operating on data frames. With this grammar, we can sensibly communicate what it is that we are doing to a data frame that other people can understand. Another useful contribution is that the `dplyr` functions are very fast, as many key operations are coded in C++.\n",
    "\n",
    "Some of the key verbs provided by the dplyr package are:\n",
    "+ `select`: return a subset of the columns of a data frame, using a flexible notation\n",
    "+ `filter`: extract a subset of rows from a data frame based on logical conditions\n",
    "+ `arrange`: reorder rows of a data frame\n",
    "+ `rename`: rename variables in a data frame\n",
    "+ `mutate`: add new variables/columns or transform existing variables\n",
    "+ `group_by` / `summarize`: generate summary statistics of different variables in the data frame, possibly within strata\n",
    "+ `%>%`: the “pipe” operator is used to connect multiple verb actions together into a pipeline"
   ]
  },
  {
   "cell_type": "code",
   "execution_count": null,
   "metadata": {
    "scrolled": true
   },
   "outputs": [],
   "source": [
    "library(dplyr)\n",
    "\n",
    "# We will be using a dataset containing air pollution and temperature data for the city of Chicago in the U.S.\n",
    "chicago <- readRDS(\"data/chicago\")\n",
    "dim(chicago)\n",
    "head(chicago)"
   ]
  },
  {
   "cell_type": "markdown",
   "metadata": {},
   "source": [
    "## `select()`\n",
    "\n",
    "The `select()` function can be used to select columns of a data frame that we want to focus on."
   ]
  },
  {
   "cell_type": "code",
   "execution_count": null,
   "metadata": {},
   "outputs": [],
   "source": [
    "# Suppose we wanted to take the first 3 columns only. \n",
    "# We could for example use numerical indices. \n",
    "names(chicago)[1:3]"
   ]
  },
  {
   "cell_type": "code",
   "execution_count": null,
   "metadata": {},
   "outputs": [],
   "source": [
    "# But we can also use the names directly.\n",
    "head(select(chicago, city:dptp))"
   ]
  },
  {
   "cell_type": "code",
   "execution_count": null,
   "metadata": {},
   "outputs": [],
   "source": [
    "# We can also omit variables by using the negative sign.\n",
    "head(select(chicago, -(city:dptp)))"
   ]
  },
  {
   "cell_type": "code",
   "execution_count": null,
   "metadata": {},
   "outputs": [],
   "source": [
    "# The select() function also allows a special syntax that allows us to specify variable names based on patterns. \n",
    "# For example, if we want to keep every variable that ends with a “2”, we could do:\n",
    "subset <- select(chicago, ends_with(\"2\"))\n",
    "head(subset)"
   ]
  },
  {
   "cell_type": "code",
   "execution_count": null,
   "metadata": {},
   "outputs": [],
   "source": [
    "# Or if we wanted to keep every variable that starts with a “d”, we could do:\n",
    "subset <- select(chicago, starts_with(\"d\"))\n",
    "head(subset)"
   ]
  },
  {
   "cell_type": "markdown",
   "metadata": {},
   "source": [
    "## `filter()`\n",
    "\n",
    "The `filter()` function is used to extract subsets of rows from a data frame. This function is similar to the existing `subset()` R function but is faster."
   ]
  },
  {
   "cell_type": "code",
   "execution_count": null,
   "metadata": {},
   "outputs": [],
   "source": [
    "# Suppose we wanted to extract the rows of the chicago data frame where the levels of PM2.5 \n",
    "# are greater than 30 and the temperature is greater than 80 degrees Fahrenheit.\n",
    "chic.f <- filter(chicago, pm25tmean2 > 30 & tmpd > 80)\n",
    "head(chic.f)\n",
    "summary(chic.f$pm25tmean2)\n",
    "summary(chic.f$tmpd)"
   ]
  },
  {
   "cell_type": "markdown",
   "metadata": {},
   "source": [
    "## `arrange()`\n",
    "\n",
    "The `arrange()` function is used to reorder rows of a data frame according to one of the variables/columns."
   ]
  },
  {
   "cell_type": "code",
   "execution_count": null,
   "metadata": {},
   "outputs": [],
   "source": [
    "# Let's order the rows of the data frame by an ascending order of date (oldest observations first).\n",
    "chicago <- arrange(chicago, date)\n",
    "head(chicago)\n",
    "\n",
    "# or arrange the rows in an descending order of the date (newest observations first).\n",
    "chicago <- arrange(chicago, desc(date))\n",
    "head(chicago)"
   ]
  },
  {
   "cell_type": "markdown",
   "metadata": {},
   "source": [
    "## `rename()`\n",
    "\n",
    "The `rename()` function allows to rename a variable in a data frame.\n",
    "\n",
    "The syntax inside the `rename()` function is to have the new name on the left-hand side of the = sign and the old name on the right-hand side."
   ]
  },
  {
   "cell_type": "code",
   "execution_count": null,
   "metadata": {},
   "outputs": [],
   "source": [
    "# Here we see the names of the first five variables in the chicago data frame.\n",
    "head(chicago[,1:5])"
   ]
  },
  {
   "cell_type": "code",
   "execution_count": null,
   "metadata": {},
   "outputs": [],
   "source": [
    "# These names are pretty obscure and could be renamed to something more sensible.\n",
    "chicago <- rename(chicago, dewpoint = dptp, pm25 = pm25tmean2)\n",
    "head(chicago[,1:5])"
   ]
  },
  {
   "cell_type": "markdown",
   "metadata": {},
   "source": [
    "## `mutate()`\n",
    "The `mutate()` function exists to compute transformations of variables in a data frame. \n",
    "\n",
    "Often, we want to create new variables that are derived from existing variables and `mutate()` provides a clean interface for doing that."
   ]
  },
  {
   "cell_type": "code",
   "execution_count": null,
   "metadata": {},
   "outputs": [],
   "source": [
    "# For example, let's say we want to detrend the air pollution data by subtracting the mean from the data. \n",
    "# That way we can look at whether a given day’s air pollution level is higher than or less than average.\n",
    "# We create a pm25detrend variable that subtracts the mean from the pm25 variable.\n",
    "chicago_mutated <- mutate(chicago, pm25detrend = pm25 - mean(pm25, na.rm = TRUE))\n",
    "head(chicago_mutated)"
   ]
  },
  {
   "cell_type": "markdown",
   "metadata": {},
   "source": [
    "## `group_by()`\n",
    "\n",
    "The `group_by()` and the `summarize()` functions are used to generate summary statistics from the data frame within strata defined by a variable."
   ]
  },
  {
   "cell_type": "code",
   "execution_count": null,
   "metadata": {},
   "outputs": [],
   "source": [
    "# For example, we might want to know what the average annual level of PM2.5 is. \n",
    "# The stratum is the year and that is something we can derive from the date variable.\n",
    "\n",
    "# First, we can create a year varible using as.POSIXlt().\n",
    "chicago_mutated <- mutate(chicago, year = as.POSIXlt(date)$year + 1900)\n",
    "head(chicago_mutated)\n",
    "\n",
    "# Next we create a separate data frame that splits the original data frame by year.\n",
    "years <- group_by(chicago_mutated, year)\n",
    "\n",
    "# Finally, we compute summary statistics for each year with the summarize() function.\n",
    "summary <- summarize(years, pm25 = mean(pm25, na.rm = TRUE), o3 = max(o3tmean2, na.rm = TRUE), no2 = median(no2tmean2, na.rm = TRUE))\n",
    "head(summary)"
   ]
  },
  {
   "cell_type": "markdown",
   "metadata": {},
   "source": [
    "## `%>%`\n",
    "\n",
    "The pipeline operater `%>%` allows to string together multiple dplyr functions in a sequence of operations,  in a left-to-right fashion, i.e.\n",
    "\n",
    "`first(x) %>% second %>% third`"
   ]
  },
  {
   "cell_type": "code",
   "execution_count": null,
   "metadata": {},
   "outputs": [],
   "source": [
    "# Let's compute the max pollutant level by month. \n",
    "mutate(chicago, month = as.POSIXlt(date)$mon + 1) %>%\n",
    "    group_by(month) %>%\n",
    "    summarize(pm25_max = max(pm25, na.rm = TRUE),\n",
    "        o3_max = max(o3tmean2, na.rm = TRUE),\n",
    "        no2_max = max(no2tmean2, na.rm = TRUE))"
   ]
  }
 ],
 "metadata": {
  "celltoolbar": "Slideshow",
  "kernelspec": {
   "display_name": "R",
   "language": "R",
   "name": "ir"
  },
  "language_info": {
   "codemirror_mode": "r",
   "file_extension": ".r",
   "mimetype": "text/x-r-source",
   "name": "R",
   "pygments_lexer": "r",
   "version": "3.4.3"
  }
 },
 "nbformat": 4,
 "nbformat_minor": 2
}
