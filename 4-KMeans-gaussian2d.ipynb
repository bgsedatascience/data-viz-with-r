{
 "cells": [
  {
   "cell_type": "markdown",
   "metadata": {},
   "source": [
    "# KMeans - gaussian2d"
   ]
  },
  {
   "cell_type": "markdown",
   "metadata": {},
   "source": [
    "<table>\n",
    "    <tr>\n",
    "        <td><img src=\"images/5.png\" /></td>\n",
    "    </tr>\n",
    "</table>"
   ]
  },
  {
   "cell_type": "code",
   "execution_count": null,
   "metadata": {},
   "outputs": [],
   "source": [
    "# Load libraries.\n",
    "library(\"cluster\")\n",
    "library(\"stats\")\n",
    "library(\"fpc\")\n",
    "library(\"ggplot2\")\n",
    "library(\"gridExtra\")\n",
    "library(\"ggpubr\")\n",
    "\n",
    "# Set seed.\n",
    "set.seed(321)"
   ]
  },
  {
   "cell_type": "code",
   "execution_count": null,
   "metadata": {},
   "outputs": [],
   "source": [
    "# Load the data set.\n",
    "load(paste(c(\"data/gaussian2d\"), sep = \"\", collapse = \"\"))"
   ]
  },
  {
   "cell_type": "code",
   "execution_count": null,
   "metadata": {
    "scrolled": false
   },
   "outputs": [],
   "source": [
    "# Scatter plot of x and y variables - color by class.\n",
    "scatterPlot <- ggplot(df, aes(x.1, x.2, color = classes)) + \n",
    "    geom_point(size = 2.5, alpha = 0.6) + \n",
    "    scale_color_manual(values = c('#999999','#E69F00','#9ac0cd','#4682b4','#6e8b3d','#ee7600','#8b1a1a','#cd1076','#8b8970','#473c8b')) + \n",
    "    theme(legend.position = c(0,1), legend.justification = c(0,1)) + \n",
    "    stat_ellipse(type = \"norm\")"
   ]
  },
  {
   "cell_type": "code",
   "execution_count": null,
   "metadata": {},
   "outputs": [],
   "source": [
    "# Marginal density plot of x (top panel)\n",
    "xdensity <- ggplot(df, aes(x.1, fill = classes)) + \n",
    "    geom_density(alpha = .5) + \n",
    "    scale_fill_manual(values = c('#999999','#E69F00','#9ac0cd','#4682b4','#6e8b3d','#ee7600','#8b1a1a','#cd1076','#8b8970','#473c8b')) + \n",
    "    theme(legend.position = \"none\")"
   ]
  },
  {
   "cell_type": "code",
   "execution_count": null,
   "metadata": {},
   "outputs": [],
   "source": [
    "# Marginal density plot of y (right panel)\n",
    "ydensity <- ggplot(df, aes(x.2, fill = classes)) + \n",
    "    geom_density(alpha = .5) + \n",
    "    scale_fill_manual(values = c('#999999','#E69F00','#9ac0cd','#4682b4','#6e8b3d','#ee7600','#8b1a1a','#cd1076','#8b8970','#473c8b')) + \n",
    "    theme(legend.position = \"none\")  + \n",
    "    rotate()"
   ]
  },
  {
   "cell_type": "code",
   "execution_count": null,
   "metadata": {},
   "outputs": [],
   "source": [
    "# Dummy plot that will act as a place-holder.\n",
    "blankPlot <- ggplot() + \n",
    "    geom_blank() + \n",
    "    theme(plot.background = element_blank(),\n",
    "          panel.grid.major = element_blank(),\n",
    "          panel.grid.minor = element_blank(),\n",
    "          panel.border = element_blank(),\n",
    "          panel.background = element_blank(),\n",
    "          axis.title.x = element_blank(),\n",
    "          axis.title.y = element_blank(),\n",
    "          axis.text.x = element_blank(),\n",
    "          axis.text.y = element_blank(),\n",
    "          axis.ticks = element_blank())"
   ]
  },
  {
   "cell_type": "code",
   "execution_count": null,
   "metadata": {},
   "outputs": [],
   "source": [
    "# The grid package provides low-level functions to create graphical objects and position \n",
    "# them on a page in specific viewports.\n",
    "grid.arrange(xdensity, \n",
    "             blankPlot, \n",
    "             scatterPlot, \n",
    "             ydensity, \n",
    "             ncol = 2, \n",
    "             nrow = 2, \n",
    "             widths = c(4, 1.4), \n",
    "             heights = c(1.4, 4))"
   ]
  },
  {
   "cell_type": "code",
   "execution_count": null,
   "metadata": {
    "scrolled": false
   },
   "outputs": [],
   "source": [
    "# K-Means cluster analysis for n in 2 to 5\n",
    "for(no.clusters in 2:5) {\n",
    "    data <- df\n",
    "    km <- kmeans(data, no.clusters)\n",
    "    \n",
    "    # Get cluster means.\n",
    "    aggregate(data, by = list(km$cluster), FUN = mean)\n",
    "    \n",
    "    # Append cluster assignment.\n",
    "    data <- data.frame(data, km$cluster)\n",
    "    data$km.cluster <- as.factor(data$km.cluster)\n",
    "    \n",
    "    # Scatter plot of x and y variables - color by groups.\n",
    "    scatterPlot <- ggplot(data, aes(x.1, x.2, color = km.cluster)) + \n",
    "        geom_point(size = 2.5, alpha = 0.6) + \n",
    "        scale_color_manual(values = c('#999999','#E69F00','#9ac0cd','#4682b4','#6e8b3d','#ee7600','#8b1a1a','#cd1076','#8b8970','#473c8b')) + \n",
    "        theme(legend.position = c(0,1), legend.justification = c(0,1)) + \n",
    "    stat_ellipse(type = \"norm\")\n",
    "    \n",
    "    # Marginal density plot of x (top panel)\n",
    "    xdensity <- ggplot(data, aes(x.1, fill = km.cluster)) + \n",
    "        geom_density(alpha = .5) + \n",
    "        scale_fill_manual(values = c('#999999','#E69F00','#9ac0cd','#4682b4','#6e8b3d','#ee7600','#8b1a1a','#cd1076','#8b8970','#473c8b')) + \n",
    "        theme(legend.position = \"none\")\n",
    "    \n",
    "    # Marginal density plot of y (right panel)\n",
    "    ydensity <- ggplot(data, aes(x.2, fill = km.cluster)) + \n",
    "        geom_density(alpha = .5) + \n",
    "        scale_fill_manual(values = c('#999999','#E69F00','#9ac0cd','#4682b4','#6e8b3d','#ee7600','#8b1a1a','#cd1076','#8b8970','#473c8b')) + \n",
    "        theme(legend.position = \"none\")  + \n",
    "        rotate()\n",
    "\n",
    "    # Dummy plot that will act as a place-holder.\n",
    "    blankPlot <- ggplot() + \n",
    "        geom_blank() + \n",
    "        theme(plot.background = element_blank(),\n",
    "              panel.grid.major = element_blank(),\n",
    "              panel.grid.minor = element_blank(),\n",
    "              panel.border = element_blank(),\n",
    "              panel.background = element_blank(),\n",
    "              axis.title.x = element_blank(),\n",
    "              axis.title.y = element_blank(),\n",
    "              axis.text.x = element_blank(),\n",
    "              axis.text.y = element_blank(),\n",
    "              axis.ticks = element_blank())\n",
    "    \n",
    "    grid.arrange(xdensity, \n",
    "                 blankPlot, \n",
    "                 scatterPlot, \n",
    "                 ydensity, \n",
    "                 ncol = 2, \n",
    "                 nrow = 2, \n",
    "                 widths = c(4, 1.4), \n",
    "                 heights = c(1.4, 4))\n",
    "}"
   ]
  },
  {
   "cell_type": "code",
   "execution_count": null,
   "metadata": {},
   "outputs": [],
   "source": []
  }
 ],
 "metadata": {
  "kernelspec": {
   "display_name": "R",
   "language": "R",
   "name": "ir"
  },
  "language_info": {
   "codemirror_mode": "r",
   "file_extension": ".r",
   "mimetype": "text/x-r-source",
   "name": "R",
   "pygments_lexer": "r",
   "version": "3.4.3"
  }
 },
 "nbformat": 4,
 "nbformat_minor": 2
}
